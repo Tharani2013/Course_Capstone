{
    "cells": [
        {
            "cell_type": "markdown",
            "metadata": {
                "collapsed": true
            },
            "source": "<h1> Applied Data Science Capstone - The Battle of Neighborhoods</h1>"
        },
        {
            "cell_type": "markdown",
            "metadata": {},
            "source": "<h2> <u>Business Proposal</u></h2>"
        },
        {
            "cell_type": "markdown",
            "metadata": {},
            "source": "<h3> Introduction: </h3>\n    \n    The Aim of this Project is to find better facilities around neighborhood, It will help people to make smart decision in selecting great neighborhood in Bronx ,New york. New York City's demographics show that it is a large and ethnically diverse metropolis.It is the largest city in the United States with a long history of international immigration with attractive job offers.\n    \n    Lots of people are migrating to Bronx, NY and needed lots of research for good housing prices and reputated schools for their children. This project will help people who are looking for better neighborhoods. For ease of accessing to Cafe, School, Super market, medical shops, grocery shops, mall, theatre, hospital, like minded people, etc.\n    \n    The work focus on  create an analysis for people moving to Bronx, NY to search a best neighborhood as a comparative analysis between neighborhoods. The features include median housing price and better school according to ratings, crime rates of that particular area, road connectivity, weather conditions, good management for emergency, water resources both fresh and waste water."
        },
        {
            "cell_type": "markdown",
            "metadata": {},
            "source": "<h2>Problem Defination:</h2>\n\n        The major purpose of this project, is to suggest a better neighborhood in  new city. Connectivity to the airport, bus stand, city center, markets and other daily needs things nearby.\n\n<ol><h4>\n    \n    A. Sorted list of house in terms of housing prices in a ascending or descending order\n    \n    B. Sorted list of schools in terms of location, rating \n    \n    C. List of essential stores around the area.\n    \n</h4></ol>"
        },
        {
            "cell_type": "markdown",
            "metadata": {},
            "source": "<h3>The Location: </h3>\n\n\nNew york  is a popular destination for new immigrants in US to reside. As a result, it is one of the most diverse and multicultural area, being home to various religious groups and places of worship. Although immigration has become a hot topic over the past few years with more governments seeking more restrictions on immigrants and refugees, the general trend of immigration into US, New york is one of the hot spot with attaractive job offers. Living in NYC is rare, beacuse of the living expenses. \n\n<h3>Work flow in Foursquare API:  </h3>\n\n\nThis project would use Four-square API as its prime data gathering source as it has a database of millions of places, especially their places API which provides the ability to perform location search, location sharing and details about a business.Using credentials of Foursquare API features of near-by places of the neighborhoods would be mined. Due to http request limitations the number of places per neighborhood parameter would reasonably be set to 100 and the radius parameter would be set to 500.\n\n<h3>Clustering Approach:   </h3>\n\n\nTo compare the similarities of two cities, we decided to explore neighborhoods, segment them, and group them into clusters to find similar neighborhoods in a big city like New York and Toronto. To be able to do that, we need to cluster data which is a form of unsupervised machine learning: k-means clustering algorithm"
        },
        {
            "cell_type": "markdown",
            "metadata": {},
            "source": "<h3>Libraries Which are Used to Develope the Project: </h3>\n    \n<ol>   \n    \n    1.Pandas: For creating and manipulating dataframes.\n\n    2.Folium: Python visualization library would be used to visualize the neighborhoods cluster distribution of using interactive leaflet map.\n\n    3.Scikit Learn: For importing k-means clustering.\n\n    4.JSON: Library to handle JSON files.\n\n    5.XML: To separate data from presentation and XML stores data in plain text format.\n\n    6.Geocoder: To retrieve Location Data.\n\n    7.Matplotlib: Python Plotting Module.\n</ol>"
        },
        {
            "cell_type": "code",
            "execution_count": null,
            "metadata": {},
            "outputs": [],
            "source": ""
        },
        {
            "cell_type": "code",
            "execution_count": null,
            "metadata": {},
            "outputs": [],
            "source": ""
        }
    ],
    "metadata": {
        "kernelspec": {
            "display_name": "Python 3.6",
            "language": "python",
            "name": "python3"
        },
        "language_info": {
            "codemirror_mode": {
                "name": "ipython",
                "version": 3
            },
            "file_extension": ".py",
            "mimetype": "text/x-python",
            "name": "python",
            "nbconvert_exporter": "python",
            "pygments_lexer": "ipython3",
            "version": "3.6.9"
        }
    },
    "nbformat": 4,
    "nbformat_minor": 1
}