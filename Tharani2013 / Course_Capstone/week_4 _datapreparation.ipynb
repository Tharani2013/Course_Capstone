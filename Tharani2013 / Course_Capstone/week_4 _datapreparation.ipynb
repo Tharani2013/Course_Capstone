{
    "cells": [
        {
            "cell_type": "markdown",
            "metadata": {},
            "source": "<h2> The Battle of Neghborhoods </h2>"
        },
        {
            "cell_type": "markdown",
            "metadata": {},
            "source": "<h3><u>Data Preparation</u> </h3>"
        },
        {
            "cell_type": "markdown",
            "metadata": {},
            "source": "<p>New York City's demographics show that it is a large and ethnically diverse metropolis. With\nits diverse culture,lot of people migrate to NYC because of attractive job offers \n\nFor this project we need the following data:\n</p>\n<h4>1. New York City data that contains list Boroughs, Neighbourhoods along with their\nlatitude and longitude</h4>\n<ul type = \"square\">\n         <li>Data source : https://cocl.us/new_york_dataset </li>\n        \n</ul>\n<p><u>Description:</u> This data set contains the required information. And we will use this data\nset to explore various neighbourhoods of New York City\n</p>\n\n<h4>2. To explore the Neighbourhood of New York City</h4>\n<ul type = \"square\">\n         <li>Data source :  Foursquare API </li>\n        \n</ul>\n<p><u>Description:</u>By using this API we will get all the venues in each neighbourhood, latitude, logitudude. We\ncan filter these venues to get list of essential stores.\n</p>\n\n<h4>3. GeoSpace Data</h4>\n<ul type = \"square\">\n         <li>Data source : https://data.cityofnewyork.us/City-Government/BoroughBoundaries/tqmj-j8zm </li>\n        \n</ul>\n<p><u>Description:</u>By using this geo space data we will get the New York Borough\nboundaries that will help us visualize choropleth map.\n</p>\n\n\n\n\n"
        },
        {
            "cell_type": "code",
            "execution_count": null,
            "metadata": {},
            "outputs": [],
            "source": ""
        }
    ],
    "metadata": {
        "kernelspec": {
            "display_name": "Python 3.6",
            "language": "python",
            "name": "python3"
        },
        "language_info": {
            "codemirror_mode": {
                "name": "ipython",
                "version": 3
            },
            "file_extension": ".py",
            "mimetype": "text/x-python",
            "name": "python",
            "nbconvert_exporter": "python",
            "pygments_lexer": "ipython3",
            "version": "3.6.9"
        }
    },
    "nbformat": 4,
    "nbformat_minor": 1
}